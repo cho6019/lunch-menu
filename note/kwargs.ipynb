{
 "cells": [
  {
   "cell_type": "code",
   "execution_count": 26,
   "id": "8871e8ea-0041-4698-9b7a-7e31e4f371b7",
   "metadata": {},
   "outputs": [],
   "source": [
    "def fun_args(*args):\n",
    "    print(f\"args...{type(args)}\")\n",
    "    for a in args:\n",
    "        print(a)"
   ]
  },
  {
   "cell_type": "code",
   "execution_count": 27,
   "id": "29581622-d753-433b-a1f3-715fff0d14c1",
   "metadata": {},
   "outputs": [
    {
     "name": "stdout",
     "output_type": "stream",
     "text": [
      "args...<class 'tuple'>\n",
      "1\n",
      "2\n",
      "3\n"
     ]
    }
   ],
   "source": [
    "fun_args(1, 2, 3)"
   ]
  },
  {
   "cell_type": "code",
   "execution_count": 40,
   "id": "d94e39aa-16a4-433e-a508-c50dce635e93",
   "metadata": {},
   "outputs": [],
   "source": [
    "DB_CONFIG = {\n",
    "    \"dbname\": \"sunsindb\",\n",
    "    \"user\": \"sunsin\",\n",
    "    \"password\": \"mysecretpassword\",\n",
    "    \"host\": \"localhost\",\n",
    "    \"port\": \"5432\"\n",
    "}"
   ]
  },
  {
   "cell_type": "code",
   "execution_count": 41,
   "id": "ce175f79-0c9e-41ad-99e9-bb2996ab93d7",
   "metadata": {},
   "outputs": [],
   "source": [
    "def fun_kwargs(**kwargs):\n",
    "    print(f'kwargs...{type(kwargs)}')\n",
    "    for i in kwargs.keys():\n",
    "        print(f'key:{i}, value:{kwargs[i]}')"
   ]
  },
  {
   "cell_type": "code",
   "execution_count": 44,
   "id": "75650cdd-3e64-46aa-80ae-103914fe0c8e",
   "metadata": {},
   "outputs": [
    {
     "name": "stdout",
     "output_type": "stream",
     "text": [
      "kwargs...<class 'dict'>\n",
      "key:dbname, value:sunsindb\n",
      "key:user, value:sunsin\n",
      "key:password, value:mysecretpassword\n",
      "key:host, value:localhost\n",
      "key:port, value:5432\n"
     ]
    }
   ],
   "source": [
    "fun_kwargs(**DB_CONFIG)"
   ]
  },
  {
   "cell_type": "code",
   "execution_count": 43,
   "id": "2992f423-74e9-438c-9b76-ad03d3dcb63a",
   "metadata": {},
   "outputs": [
    {
     "name": "stdout",
     "output_type": "stream",
     "text": [
      "kwargs...<class 'dict'>\n",
      "key:dbname, value:sunsindb\n",
      "key:user, value:sunsin\n",
      "key:abc, value:aaa\n"
     ]
    }
   ],
   "source": [
    "fun_kwargs(dbname='sunsindb', user='sunsin', abc='aaa')"
   ]
  },
  {
   "cell_type": "code",
   "execution_count": 1,
   "id": "69cf6f0c-07a5-4888-9c2c-d1f5b42dd928",
   "metadata": {},
   "outputs": [],
   "source": [
    "def mix(name, *args, **kwargs):\n",
    "    print(f'mix....{type(name)}, {type(args)}, {type(kwargs)}')\n",
    "    print(name)\n",
    "    print(args)\n",
    "    print(kwargs)"
   ]
  },
  {
   "cell_type": "code",
   "execution_count": 2,
   "id": "02b26056-de2a-4d78-a9ee-8c3626f97b8c",
   "metadata": {},
   "outputs": [
    {
     "name": "stdout",
     "output_type": "stream",
     "text": [
      "mix....<class 'int'>, <class 'tuple'>, <class 'dict'>\n",
      "1\n",
      "()\n",
      "{}\n"
     ]
    }
   ],
   "source": [
    "mix(1)"
   ]
  },
  {
   "cell_type": "code",
   "execution_count": 3,
   "id": "9d725eb7-330a-4a18-a03a-ac63953a4ba0",
   "metadata": {},
   "outputs": [
    {
     "name": "stdout",
     "output_type": "stream",
     "text": [
      "mix....<class 'str'>, <class 'tuple'>, <class 'dict'>\n",
      "a\n",
      "('b', 'c', 'd')\n",
      "{'a': 1, 'b': 2, 'c': 3}\n"
     ]
    }
   ],
   "source": [
    "mix('a', 'b', 'c', 'd', a=1, b=2, c=3)"
   ]
  }
 ],
 "metadata": {
  "kernelspec": {
   "display_name": "Python 3 (ipykernel)",
   "language": "python",
   "name": "python3"
  },
  "language_info": {
   "codemirror_mode": {
    "name": "ipython",
    "version": 3
   },
   "file_extension": ".py",
   "mimetype": "text/x-python",
   "name": "python",
   "nbconvert_exporter": "python",
   "pygments_lexer": "ipython3",
   "version": "3.10.12"
  }
 },
 "nbformat": 4,
 "nbformat_minor": 5
}
