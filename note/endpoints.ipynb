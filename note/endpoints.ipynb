{
 "cells": [
  {
   "cell_type": "code",
   "execution_count": 18,
   "id": "2f4d20c8-f856-425e-914c-2ad32407576f",
   "metadata": {},
   "outputs": [],
   "source": [
    "ep = \"https://raw.githubusercontent.com/cho6019/nextjs-fastapi-starter/refs/heads/0.6/korea/endpoints.json\""
   ]
  },
  {
   "cell_type": "code",
   "execution_count": null,
   "id": "f0708aa1-ed88-462e-8789-669e5005a4e8",
   "metadata": {},
   "outputs": [],
   "source": []
  },
  {
   "cell_type": "code",
   "execution_count": 19,
   "id": "dec0fa74-92a4-4cdb-8d0f-a17756d64ec3",
   "metadata": {},
   "outputs": [],
   "source": [
    "import pandas as pd\n",
    "import requests\n"
   ]
  },
  {
   "cell_type": "code",
   "execution_count": 20,
   "id": "663e2665-fe16-4ee6-9a27-60ccd33334bb",
   "metadata": {},
   "outputs": [],
   "source": [
    "res = requests.get(ep)"
   ]
  },
  {
   "cell_type": "code",
   "execution_count": 21,
   "id": "8106e2ff-f14c-4c3e-885c-3e39c69680ed",
   "metadata": {},
   "outputs": [
    {
     "data": {
      "text/plain": [
       "200"
      ]
     },
     "execution_count": 21,
     "metadata": {},
     "output_type": "execute_result"
    }
   ],
   "source": [
    "res.status_code"
   ]
  },
  {
   "cell_type": "code",
   "execution_count": 22,
   "id": "84ef16c1-f4c3-4bf0-ad57-7866587f05e7",
   "metadata": {},
   "outputs": [
    {
     "data": {
      "text/plain": [
       "'utf-8'"
      ]
     },
     "execution_count": 22,
     "metadata": {},
     "output_type": "execute_result"
    }
   ],
   "source": [
    "res.encoding"
   ]
  },
  {
   "cell_type": "code",
   "execution_count": 23,
   "id": "0700def2-4699-4824-8349-8f86b576daf1",
   "metadata": {},
   "outputs": [
    {
     "data": {
      "text/plain": [
       "'{\\n    \"endpoints\": [\\n        {\\n            \"name\": \"TOM\",\\n            \"url\": \"https://ac.sunsin.shop/api/py/select_all\"\\n        },\\n        {\\n            \"name\": \"jiwon\",\\n            \"url\": \"https://agecal.wodan10.shop/api/py/select_all\"\\n        },\\n        {\\n            \"name\": \"heejin\",\\n            \"url\": \"https://age.journeyjean.shop/api/py/select_all\"\\n        },\\n        {\\n            \"name\": \"hyun\",\\n            \"url\": \"https://agecalculator.calcalhan.store/api/py/select_all\"\\n        },\\n        {\\n            \"name\": \"cho\",\\n            \"url\": \"https://nextjs-fastapi-starter-5j3bemub7-chominkyus-projects.vercel.app/api/py/select_all\"\\n        },\\n        {\\n            \"name\": \"jacob\",\\n            \"url\": \"https://jacob0503.vercel.app/api/py/select_table\"\\n        },\\n        {\\n            \"name\": \"nuni\",\\n            \"url\": \"https://ac.nunininu.shop/api/py/select_all\"\\n        },\\n        {\\n            \"name\": \"lucas\",\\n            \"url\": \"https://ac.lucas12.store/api/py/select_all\"\\n        },\\n        {\\n            \"name\": \"SEO\",\\n            \"url\": \"https://ac.seo-sigma.shop/api/py/select_all\"\\n        },\\n        {\\n            \"name\": \"JERRY\",\\n            \"url\": \"https://jooon.vercel.app/api/py/select_all\"\\n        }\\n    ]\\n}\\n'"
      ]
     },
     "execution_count": 23,
     "metadata": {},
     "output_type": "execute_result"
    }
   ],
   "source": [
    "res.text"
   ]
  },
  {
   "cell_type": "code",
   "execution_count": 24,
   "id": "58862cbd-2d4f-4a9f-af51-8fb412e17f88",
   "metadata": {},
   "outputs": [
    {
     "data": {
      "text/plain": [
       "{'endpoints': [{'name': 'TOM',\n",
       "   'url': 'https://ac.sunsin.shop/api/py/select_all'},\n",
       "  {'name': 'jiwon', 'url': 'https://agecal.wodan10.shop/api/py/select_all'},\n",
       "  {'name': 'heejin', 'url': 'https://age.journeyjean.shop/api/py/select_all'},\n",
       "  {'name': 'hyun',\n",
       "   'url': 'https://agecalculator.calcalhan.store/api/py/select_all'},\n",
       "  {'name': 'cho',\n",
       "   'url': 'https://nextjs-fastapi-starter-5j3bemub7-chominkyus-projects.vercel.app/api/py/select_all'},\n",
       "  {'name': 'jacob', 'url': 'https://jacob0503.vercel.app/api/py/select_table'},\n",
       "  {'name': 'nuni', 'url': 'https://ac.nunininu.shop/api/py/select_all'},\n",
       "  {'name': 'lucas', 'url': 'https://ac.lucas12.store/api/py/select_all'},\n",
       "  {'name': 'SEO', 'url': 'https://ac.seo-sigma.shop/api/py/select_all'},\n",
       "  {'name': 'JERRY', 'url': 'https://jooon.vercel.app/api/py/select_all'}]}"
      ]
     },
     "execution_count": 24,
     "metadata": {},
     "output_type": "execute_result"
    }
   ],
   "source": [
    "res.json()"
   ]
  },
  {
   "cell_type": "code",
   "execution_count": 25,
   "id": "14700618-ff02-48eb-969f-c734e211a424",
   "metadata": {},
   "outputs": [
    {
     "data": {
      "text/html": [
       "<div>\n",
       "<style scoped>\n",
       "    .dataframe tbody tr th:only-of-type {\n",
       "        vertical-align: middle;\n",
       "    }\n",
       "\n",
       "    .dataframe tbody tr th {\n",
       "        vertical-align: top;\n",
       "    }\n",
       "\n",
       "    .dataframe thead th {\n",
       "        text-align: right;\n",
       "    }\n",
       "</style>\n",
       "<table border=\"1\" class=\"dataframe\">\n",
       "  <thead>\n",
       "    <tr style=\"text-align: right;\">\n",
       "      <th></th>\n",
       "      <th>menu_name</th>\n",
       "      <th>name</th>\n",
       "      <th>dt</th>\n",
       "    </tr>\n",
       "  </thead>\n",
       "  <tbody>\n",
       "    <tr>\n",
       "      <th>0</th>\n",
       "      <td>설렁탕</td>\n",
       "      <td>TOM</td>\n",
       "      <td>2025-02-07</td>\n",
       "    </tr>\n",
       "  </tbody>\n",
       "</table>\n",
       "</div>"
      ],
      "text/plain": [
       "  menu_name name          dt\n",
       "0       설렁탕  TOM  2025-02-07"
      ]
     },
     "execution_count": 25,
     "metadata": {},
     "output_type": "execute_result"
    }
   ],
   "source": [
    "res = requests.get('https://ac.sunsin.shop/api/py/select_all')\n",
    "data = res.json()\n",
    "df_tome = pd.DataFrame(data)\n",
    "df_tome.head(1)"
   ]
  },
  {
   "cell_type": "code",
   "execution_count": 26,
   "id": "6141212e-5ae1-43e8-8898-b1101094c8c7",
   "metadata": {},
   "outputs": [
    {
     "data": {
      "text/html": [
       "<div>\n",
       "<style scoped>\n",
       "    .dataframe tbody tr th:only-of-type {\n",
       "        vertical-align: middle;\n",
       "    }\n",
       "\n",
       "    .dataframe tbody tr th {\n",
       "        vertical-align: top;\n",
       "    }\n",
       "\n",
       "    .dataframe thead th {\n",
       "        text-align: right;\n",
       "    }\n",
       "</style>\n",
       "<table border=\"1\" class=\"dataframe\">\n",
       "  <thead>\n",
       "    <tr style=\"text-align: right;\">\n",
       "      <th></th>\n",
       "      <th>id</th>\n",
       "      <th>name</th>\n",
       "    </tr>\n",
       "  </thead>\n",
       "  <tbody>\n",
       "    <tr>\n",
       "      <th>2</th>\n",
       "      <td>4</td>\n",
       "      <td>PARK</td>\n",
       "    </tr>\n",
       "  </tbody>\n",
       "</table>\n",
       "</div>"
      ],
      "text/plain": [
       "   id  name\n",
       "2   4  PARK"
      ]
     },
     "execution_count": 26,
     "metadata": {},
     "output_type": "execute_result"
    }
   ],
   "source": [
    "new_rows = []\n",
    "\n",
    "import pandas as pd\n",
    "\n",
    "df1 = pd.DataFrame({\"id\": [1, 2, 3], \"name\": [\"KIM\", \"MIN\", \"LEE\"]})\n",
    "df2 = pd.DataFrame({\"id\": [2, 3, 4], \"name\": [\"MIN\", \"LEE\", \"PARK\"]})\n",
    "\n",
    "for _, row_j in df2.iterrows():\n",
    "    for _, row_t in df1.iterrows():\n",
    "        is_match_columns = True\n",
    "        for col in df1.columns:\n",
    "            if row_j[col] != row_t[col]:\n",
    "                is_match_columns = False\n",
    "        if is_match_columns:\n",
    "            break\n",
    "    if not is_match_columns:\n",
    "        new_rows.append(row_j)\n",
    "\n",
    "df3 = pd.DataFrame(new_rows)\n",
    "df3\n",
    "\n",
    "            "
   ]
  },
  {
   "cell_type": "code",
   "execution_count": 27,
   "id": "b58f833d-d3e2-44dd-9532-3af3c0d080e8",
   "metadata": {},
   "outputs": [],
   "source": [
    "from pandasql import sqldf"
   ]
  },
  {
   "cell_type": "code",
   "execution_count": 32,
   "id": "badf9691-d934-4922-b587-6f00f1d6b8ba",
   "metadata": {},
   "outputs": [
    {
     "data": {
      "text/html": [
       "<div>\n",
       "<style scoped>\n",
       "    .dataframe tbody tr th:only-of-type {\n",
       "        vertical-align: middle;\n",
       "    }\n",
       "\n",
       "    .dataframe tbody tr th {\n",
       "        vertical-align: top;\n",
       "    }\n",
       "\n",
       "    .dataframe thead th {\n",
       "        text-align: right;\n",
       "    }\n",
       "</style>\n",
       "<table border=\"1\" class=\"dataframe\">\n",
       "  <thead>\n",
       "    <tr style=\"text-align: right;\">\n",
       "      <th></th>\n",
       "      <th>id</th>\n",
       "      <th>name</th>\n",
       "    </tr>\n",
       "  </thead>\n",
       "  <tbody>\n",
       "    <tr>\n",
       "      <th>0</th>\n",
       "      <td>4</td>\n",
       "      <td>PARK</td>\n",
       "    </tr>\n",
       "  </tbody>\n",
       "</table>\n",
       "</div>"
      ],
      "text/plain": [
       "   id  name\n",
       "0   4  PARK"
      ]
     },
     "execution_count": 32,
     "metadata": {},
     "output_type": "execute_result"
    }
   ],
   "source": [
    "query=\"\"\"\n",
    "SELECT df2.id, df2.name\n",
    "FROM df2 left join df1\n",
    "ON df1.id = df2.id AND df1.name = df2.name\n",
    "WHERE df1.id IS NULL\n",
    "\"\"\"\n",
    "pysqldf = lambda q: sqldf(q, globals())\n",
    "result = pysqldf(query)\n",
    "result"
   ]
  },
  {
   "cell_type": "code",
   "execution_count": 29,
   "id": "70d3940b-2d2d-4332-8824-ca4f9d21d2ab",
   "metadata": {},
   "outputs": [
    {
     "data": {
      "text/html": [
       "<div>\n",
       "<style scoped>\n",
       "    .dataframe tbody tr th:only-of-type {\n",
       "        vertical-align: middle;\n",
       "    }\n",
       "\n",
       "    .dataframe tbody tr th {\n",
       "        vertical-align: top;\n",
       "    }\n",
       "\n",
       "    .dataframe thead th {\n",
       "        text-align: right;\n",
       "    }\n",
       "</style>\n",
       "<table border=\"1\" class=\"dataframe\">\n",
       "  <thead>\n",
       "    <tr style=\"text-align: right;\">\n",
       "      <th></th>\n",
       "      <th>id</th>\n",
       "      <th>name</th>\n",
       "    </tr>\n",
       "  </thead>\n",
       "  <tbody>\n",
       "    <tr>\n",
       "      <th>2</th>\n",
       "      <td>4</td>\n",
       "      <td>PARK</td>\n",
       "    </tr>\n",
       "  </tbody>\n",
       "</table>\n",
       "</div>"
      ],
      "text/plain": [
       "   id  name\n",
       "2   4  PARK"
      ]
     },
     "execution_count": 29,
     "metadata": {},
     "output_type": "execute_result"
    }
   ],
   "source": [
    "merge_df = pd.merge(df1, df2, how='right', indicator=True)\n",
    "merge_df = merge_df[merge_df['_merge']=='right_only'].drop('_merge', axis=1)\n",
    "merge_df"
   ]
  },
  {
   "cell_type": "code",
   "execution_count": 30,
   "id": "8fc95a1e-c931-4076-9a9d-6a1c6d615fb9",
   "metadata": {},
   "outputs": [
    {
     "data": {
      "text/html": [
       "<div>\n",
       "<style scoped>\n",
       "    .dataframe tbody tr th:only-of-type {\n",
       "        vertical-align: middle;\n",
       "    }\n",
       "\n",
       "    .dataframe tbody tr th {\n",
       "        vertical-align: top;\n",
       "    }\n",
       "\n",
       "    .dataframe thead th {\n",
       "        text-align: right;\n",
       "    }\n",
       "</style>\n",
       "<table border=\"1\" class=\"dataframe\">\n",
       "  <thead>\n",
       "    <tr style=\"text-align: right;\">\n",
       "      <th></th>\n",
       "      <th>id</th>\n",
       "      <th>name</th>\n",
       "    </tr>\n",
       "  </thead>\n",
       "  <tbody>\n",
       "    <tr>\n",
       "      <th>2</th>\n",
       "      <td>4</td>\n",
       "      <td>PARK</td>\n",
       "    </tr>\n",
       "  </tbody>\n",
       "</table>\n",
       "</div>"
      ],
      "text/plain": [
       "   id  name\n",
       "2   4  PARK"
      ]
     },
     "execution_count": 30,
     "metadata": {},
     "output_type": "execute_result"
    }
   ],
   "source": [
    "merge_df"
   ]
  },
  {
   "cell_type": "code",
   "execution_count": null,
   "id": "1a70ff6d-3d05-4fe2-aa30-c51840f05afc",
   "metadata": {},
   "outputs": [],
   "source": [
    "result, merge_df, df3"
   ]
  },
  {
   "cell_type": "code",
   "execution_count": 33,
   "id": "0d4990a5-57c7-459b-b0d7-94a761e28a2c",
   "metadata": {},
   "outputs": [
    {
     "name": "stdout",
     "output_type": "stream",
     "text": [
      "   id  name\n",
      "0   4  PARK\n",
      "   id  name\n",
      "2   4  PARK\n",
      "   id  name\n",
      "2   4  PARK\n"
     ]
    }
   ],
   "source": [
    "print(result)\n",
    "print(merge_df)\n",
    "print(df3)"
   ]
  },
  {
   "cell_type": "code",
   "execution_count": 35,
   "id": "b1332e9e-ab26-4ecc-b5b0-b038c0b2ff6e",
   "metadata": {},
   "outputs": [
    {
     "name": "stdout",
     "output_type": "stream",
     "text": [
      "     id  name\n",
      "2  True  True\n"
     ]
    }
   ],
   "source": [
    "print(merge_df == df3)"
   ]
  },
  {
   "cell_type": "code",
   "execution_count": null,
   "id": "7c726980-5506-4fbf-a04b-852d40d98752",
   "metadata": {},
   "outputs": [],
   "source": []
  }
 ],
 "metadata": {
  "kernelspec": {
   "display_name": "Python 3 (ipykernel)",
   "language": "python",
   "name": "python3"
  },
  "language_info": {
   "codemirror_mode": {
    "name": "ipython",
    "version": 3
   },
   "file_extension": ".py",
   "mimetype": "text/x-python",
   "name": "python",
   "nbconvert_exporter": "python",
   "pygments_lexer": "ipython3",
   "version": "3.10.12"
  }
 },
 "nbformat": 4,
 "nbformat_minor": 5
}
