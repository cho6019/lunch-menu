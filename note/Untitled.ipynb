{
 "cells": [
  {
   "cell_type": "code",
   "execution_count": 5,
   "id": "02d03dc7-9222-41c0-9ba2-69d292d1f92e",
   "metadata": {},
   "outputs": [],
   "source": [
    "import psycopg\n",
    "DB_CONFIG = {\n",
    "    \"dbname\": \"sunsindb\",\n",
    "    \"user\": \"sunsin\",\n",
    "    \"password\": \"mysecretpassword\",\n",
    "    \"host\": \"localhost\",\n",
    "    \"port\": \"5432\"\n",
    "}"
   ]
  },
  {
   "cell_type": "code",
   "execution_count": 6,
   "id": "2afae180-7b89-4e7c-8384-f463b0411fea",
   "metadata": {},
   "outputs": [],
   "source": [
    "def get_connection():\n",
    "    return psycopg.connect(**DB_CONFIG)"
   ]
  },
  {
   "cell_type": "code",
   "execution_count": 9,
   "id": "3090d28c-bc77-4a1e-96ae-43a7016aa2a0",
   "metadata": {},
   "outputs": [
    {
     "ename": "SyntaxError",
     "evalue": "invalid syntax (3824029676.py, line 1)",
     "output_type": "error",
     "traceback": [
      "\u001b[0;36m  Cell \u001b[0;32mIn[9], line 1\u001b[0;36m\u001b[0m\n\u001b[0;31m    **DB_CONFIG\u001b[0m\n\u001b[0m    ^\u001b[0m\n\u001b[0;31mSyntaxError\u001b[0m\u001b[0;31m:\u001b[0m invalid syntax\n"
     ]
    }
   ],
   "source": [
    "**DB_CONFIG"
   ]
  },
  {
   "cell_type": "code",
   "execution_count": 8,
   "id": "143b331f-dd4b-4df4-93fa-e6a3de4cbe1d",
   "metadata": {},
   "outputs": [
    {
     "data": {
      "text/plain": [
       "<psycopg.Connection [IDLE] (host=localhost user=sunsin database=sunsindb) at 0x7f01e3bf6ad0>"
      ]
     },
     "execution_count": 8,
     "metadata": {},
     "output_type": "execute_result"
    }
   ],
   "source": [
    "psycopg.connect(**DB_CONFIG)"
   ]
  },
  {
   "cell_type": "code",
   "execution_count": 10,
   "id": "9b69bc1c-4deb-45d6-8e80-693b08b8c271",
   "metadata": {},
   "outputs": [],
   "source": [
    "conn = get_connection()\n",
    "cursor = conn.cursor()"
   ]
  },
  {
   "cell_type": "code",
   "execution_count": null,
   "id": "b53cbc91-d52c-4d4b-aa1f-f7d1970a0eca",
   "metadata": {},
   "outputs": [],
   "source": []
  },
  {
   "cell_type": "code",
   "execution_count": null,
   "id": "6d103787-67db-4269-99df-78b8f71d3e46",
   "metadata": {},
   "outputs": [],
   "source": [
    "\n",
    "cursor.execute(\n",
    "    \"INSERT INTO lunch_menu (menu_name, member_name, dt) VALUES (%s, %s, %s);\",\n",
    "    ('테스트음식', '테스트맴버','2000-11-11')\n",
    ")\n",
    "conn.commit()\n",
    "cursor.close()\n"
   ]
  }
 ],
 "metadata": {
  "kernelspec": {
   "display_name": "Python 3 (ipykernel)",
   "language": "python",
   "name": "python3"
  },
  "language_info": {
   "codemirror_mode": {
    "name": "ipython",
    "version": 3
   },
   "file_extension": ".py",
   "mimetype": "text/x-python",
   "name": "python",
   "nbconvert_exporter": "python",
   "pygments_lexer": "ipython3",
   "version": "3.10.12"
  }
 },
 "nbformat": 4,
 "nbformat_minor": 5
}
